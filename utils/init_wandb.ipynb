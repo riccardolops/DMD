{
 "cells": [
  {
   "cell_type": "code",
   "execution_count": 1,
   "metadata": {},
   "outputs": [
    {
     "name": "stderr",
     "output_type": "stream",
     "text": [
      "Failed to detect the name of this notebook, you can set it manually with the WANDB_NOTEBOOK_NAME environment variable to enable code saving.\n"
     ]
    },
    {
     "name": "stdout",
     "output_type": "stream",
     "text": [
      "Create sweep with ID: h7n8ogrn\n",
      "Sweep URL: https://wandb.ai/segment_/DMD/sweeps/h7n8ogrn\n",
      "h7n8ogrn\n"
     ]
    }
   ],
   "source": [
    "import wandb\n",
    "\n",
    "sweep_configuration = {\n",
    "    'method': 'bayes',\n",
    "    'name': 'sweep',\n",
    "    'metric': {\n",
    "        'goal': 'minimize', \n",
    "        'name': 'val_loss'\n",
    "        },\n",
    "    'parameters': {\n",
    "        'learning_rate': {'max': 0.1, 'min': 0.0001},\n",
    "        'batch_norm': {'values': [True, False]},\n",
    "        'graph_conv_layer_count': {'values': [2, 3, 4, 5, 6]},\n",
    "        'steps': {'values': [2, 3, 4, 5, 6]},\n",
    "        'first_layer_channels': {'values': [8, 16, 32]}\n",
    "     }\n",
    "}\n",
    "sweep_id = wandb.sweep(sweep=sweep_configuration, project=\"DMD\")\n",
    "print(sweep_id)"
   ]
  },
  {
   "cell_type": "code",
   "execution_count": null,
   "metadata": {},
   "outputs": [],
   "source": []
  }
 ],
 "metadata": {
  "kernelspec": {
   "display_name": "DMD",
   "language": "python",
   "name": "python3"
  },
  "language_info": {
   "codemirror_mode": {
    "name": "ipython",
    "version": 3
   },
   "file_extension": ".py",
   "mimetype": "text/x-python",
   "name": "python",
   "nbconvert_exporter": "python",
   "pygments_lexer": "ipython3",
   "version": "3.10.12"
  },
  "orig_nbformat": 4
 },
 "nbformat": 4,
 "nbformat_minor": 2
}
